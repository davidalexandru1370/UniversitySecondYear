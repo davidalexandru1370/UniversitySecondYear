{
 "cells": [
  {
   "cell_type": "markdown",
   "metadata": {},
   "source": [
    "# Lab 11: Evolutionary computation\n",
    "\n",
    "### Consider the following example:\n",
    "\n",
    "Determine the minimum of the function $f(x)= x_1^2+...+x_n^2$ with $x_i \\in [-5.12, 5.12]$, $i \\in \\overline{(1, n)}$\n",
    "\n",
    "We have an example of steady state genetic algorithm with:  representation an array of real numbers; 100 individuals; crossover $$child = \\alpha \\cdot (parent1 - parent2) + parent2 ;$$ mutation - reinitialise on a random position the individual's value."
   ]
  },
  {
   "cell_type": "code",
   "execution_count": 114,
   "metadata": {},
   "outputs": [
    {
     "name": "stdout",
     "output_type": "stream",
     "text": [
      "Result: The detected minimum point after 10000 iterations is f(0.00 0.00) = 0.00\n"
     ]
    }
   ],
   "source": [
    "\n",
    "\n",
    "from random import randint, random\n",
    "from operator import add\n",
    "from math import cos, pi\n",
    "\n",
    "\n",
    "def individual(length, vmin, vmax):\n",
    "    '''\n",
    "    Create a member of the population - an individual\n",
    "\n",
    "    length: the number of genes (components)\n",
    "    vmin: the minimum possible value \n",
    "    vmax: the maximum possible value \n",
    "    '''\n",
    "    return [ (random()*(vmax-vmin)+vmin) for x in range(length) ]\n",
    "    \n",
    "def population(count, length, vmin, vmax):\n",
    "    \"\"\"\n",
    "    Create a number of individuals (i.e. a population).\n",
    "\n",
    "    count: the number of individuals in the population\n",
    "    length: the number of values per individual\n",
    "    vmin: the minimum possible value \n",
    "    vmax: the maximum possible value \n",
    "    \"\"\"\n",
    "    return [ individual(length, vmin, vmax) for x in range(count) ]\n",
    "\n",
    "def fitness(individual):\n",
    "    \"\"\"\n",
    "    Determine the fitness of an individual. Lower is better.(min problem)\n",
    "    For this problem we have the Rastrigin function\n",
    "    \n",
    "    individual: the individual to evaluate\n",
    "    \"\"\"\n",
    "    n=len(individual)\n",
    "    f=0;\n",
    "    for i in range(n):\n",
    "        f=f+individual[i]*individual[i]\n",
    "    return f\n",
    "    \n",
    "def mutate(individual, pM, vmin, vmax): \n",
    "    '''\n",
    "    Performs a mutation on an individual with the probability of pM.\n",
    "    If the event will take place, at a random position a new value will be\n",
    "    generated in the interval [vmin, vmax]\n",
    "\n",
    "    individual:the individual to be mutated\n",
    "    pM: the probability the mutation to occure\n",
    "    vmin: the minimum possible value \n",
    "    vmax: the maximum possible value\n",
    "    '''\n",
    "    if pM > random():\n",
    "            p = randint(0, len(individual)-1)\n",
    "            individual[p] = random()*(vmax-vmin)+vmin\n",
    "    return individual\n",
    "    \n",
    "def crossover(parent1, parent2):\n",
    "    '''\n",
    "    crossover between 2 parents\n",
    "    '''\n",
    "    child=[]\n",
    "    alpha=random()\n",
    "    for x in range(len(parent1)):\n",
    "        child.append(alpha*(parent1[x]-parent2[x])+parent2[x])\n",
    "    return child\n",
    "\n",
    "def iteration(pop, pM, vmin, vmax):\n",
    "    '''\n",
    "    an iteration\n",
    "\n",
    "    pop: the current population\n",
    "    pM: the probability the mutation to occure\n",
    "    vmin: the minimum possible value \n",
    "    vmax: the maximum possible value\n",
    "    '''\n",
    "    i1=randint(0,len(pop)-1)\n",
    "    i2=randint(0,len(pop)-1)\n",
    "    if (i1!=i2):\n",
    "        c=crossover(pop[i1],pop[i2])\n",
    "        c=mutate(c, pM, vmin, vmax)\n",
    "        f1=fitness(pop[i1])\n",
    "        f2=fitness(pop[i2])\n",
    "        '''\n",
    "        the repeated evaluation of the parents can be avoided\n",
    "        if  next to the values stored in the individuals we \n",
    "        keep also their fitnesses \n",
    "        '''\n",
    "        fc=fitness(c)\n",
    "        if(f1>f2) and (f1>fc):\n",
    "            pop[i1]=c\n",
    "        if(f2>f1) and (f2>fc):\n",
    "            pop[i2]=c\n",
    "    return pop\n",
    "\n",
    "def main(noIteratii=10000):\n",
    "    #PARAMETERS:\n",
    "    \n",
    "    #population size\n",
    "    dimPopulation = 100\n",
    "    #individual size\n",
    "    dimIndividual = 2\n",
    "    #the boundries of the search interval\n",
    "    vmin = -5.12\n",
    "    vmax = 5.12\n",
    "    #the mutation probability\n",
    "    pM=0.01\n",
    "    \n",
    "    P = population(dimPopulation, dimIndividual, vmin, vmax)\n",
    "    for i in range(noIteratii):\n",
    "        P = iteration(P, pM, vmin, vmax)\n",
    "\n",
    "    #print the best individual\n",
    "    graded = [ (fitness(x), x) for x in P]\n",
    "    graded =  sorted(graded)\n",
    "    result=graded[0]\n",
    "    fitnessOptim=result[0]\n",
    "    individualOptim=result[1]\n",
    "    print('Result: The detected minimum point after %d iterations is f(%3.2f %3.2f) = %3.2f'% \\\n",
    "          (noIteratii,individualOptim[0],individualOptim[1], fitnessOptim) )\n",
    "        \n",
    "main()"
   ]
  },
  {
   "cell_type": "markdown",
   "metadata": {},
   "source": [
    "Exercise 1:  Construct a similar algorithm to the one provided as an example for the Bukin function N.6 (see previous lab for this function).\n"
   ]
  },
  {
   "cell_type": "markdown",
   "metadata": {},
   "source": [
    "Consider the knapsack problem:\n",
    "\n",
    "Consider a Knapsack with a total volum equal with $V_{max}$.\n",
    "\n",
    "There are $n$ objects, with values $(p_i)_{n}$ and volumes $(v_i)_n$.\n",
    "\n",
    "Solve this problem using a generationist Genetic Algorithm, with a binary representation.\n",
    "\n",
    "Exercise 2: Initialization\n",
    "Objective: Implement the initialization step of a genetic algorithm."
   ]
  },
  {
   "cell_type": "code",
   "execution_count": 124,
   "metadata": {},
   "outputs": [
    {
     "name": "stdout",
     "output_type": "stream",
     "text": [
      "Result: The detected minimum point after 10000 iterations is f(-2.67 0.07) = 0.07\n"
     ]
    }
   ],
   "source": [
    "\n",
    "\n",
    "from random import randint, random\n",
    "from operator import add\n",
    "from math import cos, pi\n",
    "import numpy as np\n",
    "\n",
    "def bukin(x, y):\n",
    "    return 100 * np.sqrt(np.abs(y - 0.01 * x * x)) + 0.01 * np.abs(x + 10)\n",
    "\n",
    "def individual_bukin(vmin, vmax, ymin, ymax):\n",
    "    return [(random()*(vmax-vmin)+vmin), (random()*(ymax-ymin)+ymin)]\n",
    "    \n",
    "def population_bukin(count, vmin_x, vmax_x, vmin_y, vmax_y):\n",
    "    return [ individual_bukin(vmin_x, vmax_x, vmin_y, vmax_y) for x in range(count) ]\n",
    "\n",
    "def fitness_bukin(individual):\n",
    "    return bukin(individual[0], individual[1])\n",
    "    \n",
    "def mutate_bukin(individual, pM, vmin_x, vmax_x, vmin_y, vmax_y): \n",
    "    if pM > random():\n",
    "            p = randint(0, len(individual)-1)\n",
    "            individual[p] = random() * individual[p]\n",
    "    return individual\n",
    "    \n",
    "def crossover_bukin(parent1, parent2):\n",
    "    child=[]\n",
    "    alpha=random()\n",
    "    for x in range(len(parent1)):\n",
    "        child.append(alpha*(parent1[x]-parent2[x])+parent2[x])\n",
    "    return child\n",
    "\n",
    "def iteration_bukin(pop, pM, vmin_x, vmax_x, vmin_y, vmax_y):\n",
    "    i1=randint(0,len(pop)-1)\n",
    "    i2=randint(0,len(pop)-1)\n",
    "    if (i1!=i2):\n",
    "        c=crossover_bukin(pop[i1],pop[i2])\n",
    "        c=mutate_bukin(c, pM, vmin_x, vmax_x, vmin_y, vmax_y)\n",
    "        f1=fitness_bukin(pop[i1])\n",
    "        f2=fitness_bukin(pop[i2])\n",
    "        fc=fitness_bukin(c)\n",
    "        if(f1>f2) and (f1>fc):\n",
    "            pop[i1]=c\n",
    "        if(f2>f1) and (f2>fc):\n",
    "            pop[i2]=c\n",
    "    return pop\n",
    "\n",
    "def main_bukin(noIteratii=10000):\n",
    "    #PARAMETERS:\n",
    "    \n",
    "    #population size\n",
    "    dimPopulation = 100\n",
    "    #individual size\n",
    "    dimIndividual = 2\n",
    "    #the boundries of the search interval\n",
    "    vmin_x = -10 \n",
    "    vmax_x = 5\n",
    "    vmin_y = 10\n",
    "    vmax_y = -30\n",
    "    #the mutation probability\n",
    "    pM=0.01\n",
    "    \n",
    "    P = population_bukin(dimPopulation, vmin_x, vmax_x, vmin_y, vmax_y)\n",
    "    for i in range(noIteratii):\n",
    "        P = iteration_bukin(P, pM, vmin_x, vmax_x, vmin_y, vmax_y)\n",
    "\n",
    "    #print the best individual\n",
    "    graded = [ (fitness_bukin(x), x) for x in P]\n",
    "    graded =  sorted(graded)\n",
    "    result=graded[0]\n",
    "    fitnessOptim=result[0]\n",
    "    individualOptim=result[1]\n",
    "    print('Result: The detected minimum point after %d iterations is f(%3.2f %3.2f) = %3.2f'% \\\n",
    "          (noIteratii,individualOptim[0],individualOptim[1], fitnessOptim) )\n",
    "        \n",
    "main_bukin()"
   ]
  },
  {
   "cell_type": "code",
   "execution_count": 125,
   "metadata": {},
   "outputs": [],
   "source": [
    "basket_size = 19\n",
    "\n",
    "values = [5, 8, 6, 10, 12, 15, 4, 7]\n",
    "weights = [1, 3, 2, 4, 5, 6, 2, 3]\n",
    "\n",
    "def value_in_knapsack(individual):\n",
    "    value = 0\n",
    "    for i in range(len(individual)):\n",
    "        value += values[i] if individual[i] == 1 else 0\n",
    "    return value\n",
    "\n",
    "\n",
    "def weight_in_knapsack(individual):\n",
    "    weight = 0\n",
    "    for i in range(len(individual)):\n",
    "        weight += weights[i] if individual[i] == 1 else 0\n",
    "    return weight"
   ]
  },
  {
   "cell_type": "code",
   "execution_count": 117,
   "metadata": {},
   "outputs": [
    {
     "name": "stdout",
     "output_type": "stream",
     "text": [
      "[[1, 1, 1, 0, 0, 0, 1, 1], [1, 0, 1, 1, 1, 1, 1, 1], [1, 0, 1, 1, 1, 0, 0, 0], [0, 1, 1, 0, 1, 1, 0, 1], [0, 0, 1, 1, 0, 0, 1, 1], [1, 1, 0, 0, 0, 1, 1, 0], [0, 0, 0, 1, 0, 1, 0, 0], [0, 1, 0, 0, 1, 0, 1, 1], [1, 1, 0, 0, 1, 1, 1, 0], [0, 1, 0, 1, 1, 1, 0, 1]]\n"
     ]
    }
   ],
   "source": [
    "import random\n",
    "\n",
    "\n",
    "def generate_basket(chromosome_length):\n",
    "    basket = [randint(0,1) for x in range(chromosome_length)]\n",
    "    return basket\n",
    "\n",
    "def initialize_population(population_size, chromosome_length):\n",
    "    # generate random a population with population_size number of individuals\n",
    "    # each individual with the size chromosome_length\n",
    "    # IN:  population_size, chromosome_length\n",
    "    # OUT: population\n",
    "    \n",
    "    # your code here\n",
    "    pop = [generate_basket(chromosome_length) for y in range(population_size)]\n",
    "    \n",
    "    return pop\n",
    "\n",
    "\n",
    "# Test the initialization step\n",
    "population_size = 10\n",
    "chromosome_length = 8\n",
    "population = initialize_population(population_size, chromosome_length)\n",
    "print(population)\n"
   ]
  },
  {
   "cell_type": "markdown",
   "metadata": {},
   "source": [
    "Exercise 3: Fitness Evaluation\n",
    "\n",
    "Objective: Implement the fitness evaluation step of a genetic algorithm."
   ]
  },
  {
   "cell_type": "code",
   "execution_count": 118,
   "metadata": {},
   "outputs": [
    {
     "name": "stdout",
     "output_type": "stream",
     "text": [
      "[30, 0, 33, 48, 27, 32, 25, 31, 44, 44]\n"
     ]
    }
   ],
   "source": [
    "def evaluate_fitness(population):\n",
    "    # evaluate the fitness of each individual in the population\n",
    "    # IN:  population\n",
    "    # OUT: fitness_scores\n",
    "    \n",
    "    fitness_scores = []\n",
    "    for individual in population:\n",
    "        fitness = value_in_knapsack(individual)\n",
    "        weight = weight_in_knapsack(individual)\n",
    "        overweight = weight - basket_size\n",
    "        if overweight > 0 :\n",
    "            fitness -= (overweight)**3\n",
    "        if fitness > 0:\n",
    "            fitness_scores.append(fitness)\n",
    "        else:\n",
    "            fitness_scores.append(0)\n",
    "            \n",
    "    return fitness_scores\n",
    "        \n",
    "    \n",
    "    # your code here\n",
    "    \n",
    "# Test the fitness evaluation step\n",
    "fitness_scores = evaluate_fitness(population)\n",
    "print(fitness_scores)\n"
   ]
  },
  {
   "cell_type": "markdown",
   "metadata": {},
   "source": [
    "Exercise 4: Selection\n",
    "\n",
    "Objective: Implement the selection step of a genetic algorithm."
   ]
  },
  {
   "cell_type": "code",
   "execution_count": 119,
   "metadata": {},
   "outputs": [
    {
     "name": "stdout",
     "output_type": "stream",
     "text": [
      "[[1, 1, 0, 0, 1, 1, 1, 0], [1, 0, 1, 1, 1, 0, 0, 0]]\n"
     ]
    }
   ],
   "source": [
    "def select_parents(population, fitness_scores):\n",
    "    # select two parents from the population based on the fitness - \n",
    "    # the better the fitness, the higher the chance to be selected\n",
    "    # IN:  population, fitness_scores\n",
    "    # OUT: selected_parents\n",
    "    return random.choices(population, weights = fitness_scores, k = 2)\n",
    "    # your code here\n",
    "    \n",
    "# Test the selection step\n",
    "parents = select_parents(population, fitness_scores)\n",
    "print(parents)\n"
   ]
  },
  {
   "cell_type": "markdown",
   "metadata": {},
   "source": [
    "Exercise 5: Crossover\n",
    "\n",
    "Objective: Implement the crossover step of a genetic algorithm."
   ]
  },
  {
   "cell_type": "code",
   "execution_count": 120,
   "metadata": {},
   "outputs": [
    {
     "name": "stdout",
     "output_type": "stream",
     "text": [
      "[[1, 1, 0, 0, 1, 0, 0, 0], [1, 1, 1, 0, 1, 1, 0, 0]]\n"
     ]
    }
   ],
   "source": [
    "def crossover(parents):\n",
    "    # create two new offspring by combining the parents\n",
    "    # IN:  parents\n",
    "    # OUT: offspring\n",
    "    p1 = parents[0]\n",
    "    p2 = parents[1]\n",
    "    \n",
    "    offspring = []\n",
    "    \n",
    "    len_p1 = len(p1)\n",
    "    len_p2 = len(p2)\n",
    "    \n",
    "    child1 = p1[:len_p1//2] + p2[len_p2//2:]\n",
    "    child2 = p1[len_p1//2:] + p1[:len_p1//2]\n",
    "    \n",
    "    offspring = [child1, child2]\n",
    "    return offspring\n",
    "    # your code here\n",
    "\n",
    "# Test the crossover step\n",
    "offsprings = crossover(parents)\n",
    "print(offsprings)\n"
   ]
  },
  {
   "cell_type": "markdown",
   "metadata": {},
   "source": [
    "Exercise 6: Mutation\n",
    "\n",
    "Objective: Implement the mutation step of a genetic algorithm."
   ]
  },
  {
   "cell_type": "code",
   "execution_count": 121,
   "metadata": {},
   "outputs": [
    {
     "name": "stdout",
     "output_type": "stream",
     "text": [
      "[[1, 1, 0, 0, 1, 0, 0, 0], [1, 1, 0, 0, 0, 1, 0, 0]]\n"
     ]
    }
   ],
   "source": [
    "def mutate(chromosome, mutation_rate):\n",
    "    # mutate the chromosome by randomly flipping bits\n",
    "    # IN:  chromosome, mutation_rate\n",
    "    # OUT: mutated_chromosome\n",
    "    alpha = random.random()\n",
    "    if alpha < mutation_rate:\n",
    "        chromosome = 1 - chromosome\n",
    "        \n",
    "    return chromosome\n",
    "\n",
    "# Test the mutation step\n",
    "mutation_rate = 0.1\n",
    "mutated_offspring = [[mutate(child, mutation_rate) for child in offspring] for offspring in offsprings]\n",
    "print(mutated_offspring)\n"
   ]
  },
  {
   "cell_type": "markdown",
   "metadata": {},
   "source": [
    "Exercise 7: Complete Genetic Algorithm\n",
    "\n",
    "Objective: Combine all the steps of a genetic algorithm to solve a specific problem."
   ]
  },
  {
   "cell_type": "code",
   "execution_count": 122,
   "metadata": {},
   "outputs": [
    {
     "name": "stdout",
     "output_type": "stream",
     "text": [
      "[[1, 1, 1, 0, 1, 1, 0, 0], [1, 1, 1, 0, 1, 1, 1, 0], [1, 1, 1, 0, 1, 1, 0, 0], [1, 1, 1, 0, 1, 1, 0, 0], [1, 1, 1, 0, 1, 1, 1, 0], [1, 1, 0, 0, 1, 1, 1, 0], [1, 1, 1, 0, 1, 1, 1, 0], [1, 1, 1, 0, 1, 1, 1, 0], [1, 1, 0, 0, 1, 1, 1, 0], [1, 1, 1, 0, 1, 1, 1, 0]]\n"
     ]
    }
   ],
   "source": [
    "def genetic_algorithm(population_size, chromosome_length, generations, mutation_rate):\n",
    "    \n",
    "    # complete genetic algorithm\n",
    "    # IN:  population_size, chromosome_length, generations, mutation_rate\n",
    "    # OUT: population\n",
    "\n",
    "\n",
    "    # initialize the population\n",
    "    population = initialize_population(population_size, chromosome_length, )\n",
    "    # your code here\n",
    "    \n",
    "\n",
    "    for _ in range(generations):\n",
    "        # Fitness evaluation\n",
    "        \n",
    "            # your code here\n",
    "        fitness_scores = evaluate_fitness(population)\n",
    "        # Selection\n",
    "        parents = select_parents(population, fitness_scores)\n",
    "\n",
    "        # Crossover\n",
    "        offsprings = crossover(parents)\n",
    "            # your code here\n",
    "\n",
    "        # Mutation\n",
    "        mutated_offspring = [[mutate(child, mutation_rate) for child in offspring] for offspring in offsprings]\n",
    "            # your code here\n",
    "\n",
    "        population.append(mutated_offspring[0])\n",
    "        fitness_scores.append(value_in_knapsack(mutated_offspring[0]))\n",
    "            \n",
    "        population.append(mutated_offspring[1])\n",
    "        fitness_scores.append(value_in_knapsack(mutated_offspring[1]))\n",
    "        \n",
    "        population = random.choices(population, weights = fitness_scores, k = population_size)\n",
    "            # your code here\n",
    "\n",
    "    return population\n",
    "\n",
    "# Test the complete genetic algorithm\n",
    "population_size = 10\n",
    "chromosome_length = 8\n",
    "generations = 100\n",
    "mutation_rate = 0.1\n",
    "\n",
    "final_population = genetic_algorithm(population_size, chromosome_length, generations, mutation_rate)\n",
    "print(final_population)\n"
   ]
  },
  {
   "cell_type": "markdown",
   "metadata": {},
   "source": [
    "Exercise 8: Extract the result from the final population\n",
    "\n",
    "Objective: Get the best individual from the final population.\n"
   ]
  },
  {
   "cell_type": "code",
   "execution_count": 123,
   "metadata": {},
   "outputs": [
    {
     "name": "stdout",
     "output_type": "stream",
     "text": [
      "[46, 50, 46, 46, 50, 44, 50, 50, 44, 50]\n",
      "[1, 1, 1, 0, 1, 1, 1, 0]\n",
      "19\n",
      "[1, 1, 1, 0, 1, 1, 1, 0]\n",
      "19\n",
      "[1, 1, 1, 0, 1, 1, 1, 0]\n",
      "19\n",
      "[1, 1, 1, 0, 1, 1, 1, 0]\n",
      "19\n",
      "[1, 1, 1, 0, 1, 1, 1, 0]\n",
      "19\n"
     ]
    }
   ],
   "source": [
    "# determine the best individual from the final population and print it out\n",
    "\n",
    "# your code here\n",
    "final_fitness = evaluate_fitness(final_population)\n",
    "print(final_fitness)\n",
    "max_value = max(final_fitness)\n",
    "\n",
    "for i in range(len(final_population)):\n",
    "    if final_fitness[i] == max_value:\n",
    "        print(final_population[i])\n",
    "        print(weight_in_knapsack(final_population[i]))"
   ]
  },
  {
   "cell_type": "code",
   "execution_count": null,
   "metadata": {},
   "outputs": [],
   "source": []
  },
  {
   "cell_type": "code",
   "execution_count": null,
   "metadata": {},
   "outputs": [],
   "source": []
  },
  {
   "cell_type": "code",
   "execution_count": null,
   "metadata": {},
   "outputs": [],
   "source": []
  }
 ],
 "metadata": {
  "kernel_info": {
   "name": "python"
  },
  "kernelspec": {
   "display_name": "Python 3 (ipykernel)",
   "language": "python",
   "name": "python3"
  },
  "language_info": {
   "codemirror_mode": {
    "name": "ipython",
    "version": 3
   },
   "file_extension": ".py",
   "mimetype": "text/x-python",
   "name": "python",
   "nbconvert_exporter": "python",
   "pygments_lexer": "ipython3",
   "version": "3.10.9"
  },
  "nteract": {
   "version": "nteract-front-end@1.0.0"
  }
 },
 "nbformat": 4,
 "nbformat_minor": 2
}
